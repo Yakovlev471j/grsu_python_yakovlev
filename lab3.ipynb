{
 "cells": [
  {
   "cell_type": "markdown",
   "metadata": {},
   "source": [
    "# Лабораторная работа 3. Объектно-ориентированное программирование. Часть 1."
   ]
  },
  {
   "cell_type": "markdown",
   "metadata": {},
   "source": [
    "Распространённым примером для демонстрации деталей реализации пользовательского класса является разработка класса, воплощающего Fraction. Мы уже видели, что Python предоставляет в наше пользование несколько числовых классов. Однако, бывают моменты, когда более подходящим является создание объекта данных лишь “выглядящего как” дробь.\n",
    "\n",
    "Дробь (например, $\\frac{3}{5}$) состоит из двух частей. Верхнее значение, называемое числитель, может быть любым целым числом. Нижнее значение (знаменатель) - любым целым, большим нуля (отрицательные дроби имеют отрицательный числитель). Также для любой дроби можно создать приближение с плавающей запятой. В этом случае мы хотели бы представлять дробь как точное значение.\n",
    "\n",
    "Операции для типа Fraction будут позволять его объектам данных вести себя подобно любым другим числовым значениям. Мы должны быть готовы складывать, вычитать, умножать и делить дроби. Также необходима возможность показывать дроби в их стандартной “слэш”-форме (например, $\\frac{3}{5}$). Все методы дробей должны возвращать результат в своей сокращённой форме таким образом, чтобы, вне зависимости от вида вычислений, в конце мы всегда имели наиболее общепринятую форму.\n",
    "\n",
    "Запишите класс Fraction. Принимайте через конструктор числитель и знаменатель. "
   ]
  },
  {
   "cell_type": "code",
   "execution_count": 7,
   "metadata": {},
   "outputs": [],
   "source": [
    "def gcd(a, b):\n",
    "    while a % b != 0:\n",
    "        A = a\n",
    "        B = b\n",
    "        a = B\n",
    "        b = A % B\n",
    "    return b\n",
    "\n",
    "class Fraction:\n",
    "    def __init__(self, num, den):\n",
    "        self.num = num\n",
    "        self.den = den\n",
    "        \n",
    "    def __str__(self):\n",
    "        return \"{}/{}\".format(self.num, self.den)\n",
    "    \n",
    "    def show(self):\n",
    "        print(self.__str__())\n",
    "        \n",
    "    def __add__(self, other):\n",
    "        new_num = self.num * other.den + self.den * other.num\n",
    "        new_den = self.den * other.den\n",
    "        return Fraction(new_num, new_den).reduce()\n",
    "    \n",
    "    def __eq__(self, other):\n",
    "        return (self.num * other.den) == (self.den * other.num)\n",
    "    \n",
    "    def reduce(self):\n",
    "        common_divisor = gcd(self.num, self.den)\n",
    "        self.num //= common_divisor\n",
    "        self.den //= common_divisor\n",
    "        return self\n",
    "    \n",
    "    def __sub__(self, other):\n",
    "        new_num = self.num * other.den - self.den * other.num\n",
    "        new_den = self.den * other.den\n",
    "        return Fraction(new_num, new_den).reduce()\n",
    "    \n",
    "    def __mul__(self, other):\n",
    "        new_num = self.num * other.num\n",
    "        new_den = self.den * other.den\n",
    "        return Fraction(new_num, new_den).reduce()\n",
    "    \n",
    "    def __truediv__(self, other):\n",
    "        new_num = self.num * other.den\n",
    "        new_den = self.den * other.num\n",
    "        return Fraction(new_num, new_den).reduce()\n",
    "    \n",
    "    def __lt__(self, other):\n",
    "        val1 = self.num * other.den\n",
    "        val2 = self.den * other.num\n",
    "        return val1 < val2\n",
    "    \n",
    "    def __gt__(self, other):\n",
    "        return not (self < other or self == other) \n"
   ]
  },
  {
   "cell_type": "markdown",
   "metadata": {},
   "source": [
    "Создай сущность класса Fraction. "
   ]
  },
  {
   "cell_type": "code",
   "execution_count": 8,
   "metadata": {},
   "outputs": [],
   "source": [
    "fraction = Fraction(3, 5)"
   ]
  },
  {
   "cell_type": "markdown",
   "metadata": {},
   "source": [
    "Вызовите print от сущности. "
   ]
  },
  {
   "cell_type": "code",
   "execution_count": 9,
   "metadata": {},
   "outputs": [
    {
     "name": "stdout",
     "output_type": "stream",
     "text": [
      "3/5\n"
     ]
    }
   ],
   "source": [
    "print(fraction)"
   ]
  },
  {
   "cell_type": "markdown",
   "metadata": {},
   "source": [
    " Функция print требует, чтобы объект конвертировал самого себя в строку, которая будет записана на выходе."
   ]
  },
  {
   "cell_type": "code",
   "execution_count": 14,
   "metadata": {},
   "outputs": [
    {
     "data": {
      "text/plain": [
       "'3/5'"
      ]
     },
     "execution_count": 14,
     "metadata": {},
     "output_type": "execute_result"
    }
   ],
   "source": [
    "str(fraction)"
   ]
  },
  {
   "cell_type": "markdown",
   "metadata": {},
   "source": [
    "Определите метод под названием show, который позволит объекту Fraction печать самого себя как строку. Продемострируйете. "
   ]
  },
  {
   "cell_type": "code",
   "execution_count": 15,
   "metadata": {},
   "outputs": [
    {
     "name": "stdout",
     "output_type": "stream",
     "text": [
      "3/5\n"
     ]
    }
   ],
   "source": [
    "fraction.show()"
   ]
  },
  {
   "cell_type": "markdown",
   "metadata": {},
   "source": [
    "Теперь тоже самое только стандартными методами. Продемострируйте, что можно дробь выводить через print."
   ]
  },
  {
   "cell_type": "code",
   "execution_count": 16,
   "metadata": {},
   "outputs": [
    {
     "name": "stdout",
     "output_type": "stream",
     "text": [
      "3/5\n"
     ]
    }
   ],
   "source": [
    "print(fraction)"
   ]
  },
  {
   "cell_type": "markdown",
   "metadata": {},
   "source": [
    "Мы можем перегрузить множество других методов для нового класса Fraction. Одними из наиболее важных из них являются основные арифметические операции. Создайте два объекта Fraction, а затем сложить их вместе, используя стандартную запись “+”"
   ]
  },
  {
   "cell_type": "code",
   "execution_count": 21,
   "metadata": {},
   "outputs": [
    {
     "data": {
      "text/plain": [
       "<__main__.Fraction at 0x7fd5c8219748>"
      ]
     },
     "execution_count": 21,
     "metadata": {},
     "output_type": "execute_result"
    }
   ],
   "source": [
    "fraction1 = Fraction(2, 10)\n",
    "fraction2 = Fraction(3, 10)\n",
    "\n",
    "fraction1 + fraction2"
   ]
  },
  {
   "cell_type": "markdown",
   "metadata": {},
   "source": [
    "Если вы внимательнее посмотрите на сообщение об ошибке, то заметите - загвоздка в том, что оператор “+” не понимает операндов Fraction. Перегрузите сложение."
   ]
  },
  {
   "cell_type": "code",
   "execution_count": 22,
   "metadata": {},
   "outputs": [
    {
     "name": "stdout",
     "output_type": "stream",
     "text": [
      "1/2\n"
     ]
    }
   ],
   "source": [
    "print(fraction1 + fraction2)"
   ]
  },
  {
   "cell_type": "markdown",
   "metadata": {},
   "source": [
    "Метод сложения работает, как мы того и хотели, но одну вещь можно было бы улучшить. Дробь не сокращается. Реализуйте метод для сокращения дроби. "
   ]
  },
  {
   "cell_type": "code",
   "execution_count": 23,
   "metadata": {},
   "outputs": [
    {
     "name": "stdout",
     "output_type": "stream",
     "text": [
      "1/2\n"
     ]
    }
   ],
   "source": [
    "fraction3 = fraction1 + fraction2\n",
    "print(fraction3)\n"
   ]
  },
  {
   "cell_type": "markdown",
   "metadata": {},
   "source": [
    "Предположим, что у нас есть два объекта Fraction f1 и f2. f1 == f2 будет истиной, если они ссылаются на один и тот же объект. Два разных объекта с одинаковыми числителями и знаменателями в этой реализации равны не будут. Это называется поверхностным равенством. Создайте глубокое равенство - по одинаковому значению, а не по одинаковой ссылке - перегрузив метод __eq__. Это ещё один стандартный метод, доступный в любом классе. Он сравнивает два объекта и возвращает True, если их значения равны, или False в противном случае."
   ]
  },
  {
   "cell_type": "code",
   "execution_count": 24,
   "metadata": {},
   "outputs": [
    {
     "name": "stdout",
     "output_type": "stream",
     "text": [
      "1/1\n",
      "True\n"
     ]
    }
   ],
   "source": [
    "\n",
    "fraction1 = Fraction(5,10)\n",
    "fraction2 = Fraction(5,10)\n",
    "print(fraction1 + fraction2)\n",
    "print(fraction1 == fraction2)"
   ]
  },
  {
   "cell_type": "markdown",
   "metadata": {},
   "source": [
    "Напишите реализацию операций *, / и -. Продемонстрируйте. "
   ]
  },
  {
   "cell_type": "code",
   "execution_count": 26,
   "metadata": {},
   "outputs": [
    {
     "name": "stdout",
     "output_type": "stream",
     "text": [
      "1/4\n",
      "3/2\n",
      "1/6\n"
     ]
    }
   ],
   "source": [
    "fraction1 = Fraction(2, 3)\n",
    "fraction2 = Fraction(4, 5)\n",
    "fraction3 = Fraction(1, 2)\n",
    "\n",
    "print(f1 * f2)\n",
    "print(f2 / f3)\n",
    "print(f1 - f3)"
   ]
  },
  {
   "cell_type": "markdown",
   "metadata": {},
   "source": [
    "Также реализуйте операторы сравнения > и <."
   ]
  },
  {
   "cell_type": "code",
   "execution_count": 25,
   "metadata": {},
   "outputs": [
    {
     "name": "stdout",
     "output_type": "stream",
     "text": [
      "False\n",
      "True\n",
      "True\n",
      "False\n"
     ]
    }
   ],
   "source": [
    "fraction1 = Fraction(5, 10)\n",
    "fraction2 = Fraction(1, 2)\n",
    "fraction3 = Fraction(1, 3)\n",
    "\n",
    "print(fraction1 > fraction2)\n",
    "print(fraction1 == fraction2)\n",
    "print(fraction1 > fraction3)\n",
    "print(fraction1 < fraction3)\n",
    "print(fraction2 == fraction3)"
   ]
  },
  {
   "cell_type": "markdown",
   "metadata": {},
   "source": [
    "# ЧАСТЬ 2. Создание базовых классов"
   ]
  },
  {
   "cell_type": "markdown",
   "metadata": {},
   "source": [
    "Вам на вход приходит последовательность целых чисел. Вам надо обрабатывать ее следующим образом: выводить на экран сумму первых пяти чисел этой последовательности, затем следующих 5 итд\n",
    "\n",
    "Но последовательность не дается вам сразу целиком. С течением времени к вам поступают её последовательные части. Например, сначала первые три элемента, потом следующие шесть, потом следующие два и т. д.\n",
    "\n",
    "Реализуйте класс Buffer, который будет накапливать в себе элементы последовательности и выводить сумму пятерок последовательных элементов по мере их накопления.\n",
    "\n",
    "Одним из требований к классу является то, что он не должен хранить в себе больше элементов, чем ему действительно необходимо, т. е. он не должен хранить элементы, которые уже вошли в пятерку, для которой была выведена сумма.\n",
    "\n",
    "Класс должен иметь следующий вид"
   ]
  },
  {
   "cell_type": "code",
   "execution_count": 5,
   "metadata": {},
   "outputs": [
    {
     "name": "stdout",
     "output_type": "stream",
     "text": [
      "[1, 2, 3]\n",
      "15\n",
      "40\n",
      "[11]\n",
      "65\n",
      "[16, 17]\n"
     ]
    }
   ],
   "source": [
    "class Buffer:\n",
    "    def __init__(self):\n",
    "        self.cur_part = []\n",
    "    def add(self, *a):\n",
    "        self.cur_part.extend(a)\n",
    "        while len(self.cur_part) - 5 >= 0:\n",
    "            print(sum(self.cur_part[0:5]))\n",
    "            self.cur_part = self.cur_part[5:]\n",
    "    def get_cur_part(self):\n",
    "        return self.cur_part\n",
    "    \n",
    "    \n",
    "b = Buffer()\n",
    "b.add(1, 2, 3)\n",
    "print(b.get_cur_part())\n",
    "b.add(4)\n",
    "b.add(5, 6, 7, 8, 9, 10, 11)\n",
    "print(b.get_cur_part())\n",
    "b.add(12, 13, 14, 15, 16, 17)\n",
    "print(b.get_cur_part())"
   ]
  },
  {
   "cell_type": "markdown",
   "metadata": {},
   "source": [
    "Создайте правильные цепочки наследования классов для: Животное, собака, щенок, самолет, компьютер, имеющее лапы, летающее, орел, белка-летяга, разумное, человек, медуза, одуванчик.\n",
    "В эти классы добавьте конструкторы, а также методы для следующих действий (где надо): полаять, родить, сложить два числа, ужалить, подумать, взлететь, пустить корни, поесть, взять, а также следующие поля: возраст, латинское название (или модель). Прокомментируйте вашу логику. Можете использовать русские слова. "
   ]
  },
  {
   "cell_type": "code",
   "execution_count": 6,
   "metadata": {},
   "outputs": [],
   "source": [
    "\n",
    "class Animal():\n",
    "    def __init__(self):\n",
    "        pass\n",
    "    def createChild(self):\n",
    "        animal = Animal()\n",
    "        return animal\n",
    "    def eat(self):\n",
    "        print('eating')        \n",
    "class HasPaws(Animal):\n",
    "    def __init__(self):\n",
    "        super().__init__()\n",
    "    pass\n",
    "class Flyable:\n",
    "    def __init__(self):\n",
    "        pass\n",
    "    def flyUp(self):\n",
    "        print('flying')       \n",
    "class Dog(HasPaws):\n",
    "    def __init__(self):\n",
    "        super().__init__()\n",
    "    def bork(self):\n",
    "        print('borking')       \n",
    "class Puppy(Dog):\n",
    "    def __init__(self):\n",
    "        super().__init__()        \n",
    "class Plane(Flyable):\n",
    "    def __init__(self):\n",
    "        super().__init__()       \n",
    "class Computer:\n",
    "    def __init__(self):\n",
    "        pass    \n",
    "class Medusa(Animal):\n",
    "    def __init__(self):\n",
    "        super().__init__()\n",
    "    def sting(self):\n",
    "        print('stinging')        \n",
    "class FlyingSquirrel(Animal, Flyable):\n",
    "    def __init__(self):\n",
    "        super().__init__()        \n",
    "class Eagle(Animal, Flyable):\n",
    "    def __init__(self):\n",
    "        super().__init__()        \n",
    "class Thinking(Animal):\n",
    "    def __init__(self):\n",
    "        super().__init__()       \n",
    "    def thinking(self):\n",
    "        print('thinking')       \n",
    "class Dandelion:\n",
    "    def __init__(self):\n",
    "        pass\n",
    "    def root(self):\n",
    "        print('rooting...')     \n",
    "class Human(Thinking):\n",
    "    def __init__(self):\n",
    "        super().__init__()\n",
    "    def add(self, number1, number2):\n",
    "        print(int(number1+number2))\n",
    "    def take(self):\n",
    "        print()"
   ]
  }
 ],
 "metadata": {
  "kernelspec": {
   "display_name": "Python 3",
   "language": "python",
   "name": "python3"
  },
  "language_info": {
   "codemirror_mode": {
    "name": "ipython",
    "version": 3
   },
   "file_extension": ".py",
   "mimetype": "text/x-python",
   "name": "python",
   "nbconvert_exporter": "python",
   "pygments_lexer": "ipython3",
   "version": "3.6.10"
  }
 },
 "nbformat": 4,
 "nbformat_minor": 1
}
